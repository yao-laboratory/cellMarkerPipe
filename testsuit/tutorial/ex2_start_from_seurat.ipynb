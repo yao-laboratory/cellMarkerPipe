{
 "cells": [
  {
   "cell_type": "markdown",
   "id": "99be88dd-1c49-4851-9193-9065d7e4f435",
   "metadata": {},
   "source": [
    "## Introduction"
   ]
  },
  {
   "cell_type": "markdown",
   "id": "ca907160-70fc-4461-8e6f-bd505077b097",
   "metadata": {},
   "source": [
    "##### This is an example for the users who want to do their own Preprocess step and already has a Seurat Project data available for Selection step. In this example, a seurat project object is firstly loaded and then the features are screened . You can customize the feature screen step and choose the ones you are interested. Then the required 10x format of data is saved for the Selection step in cellMarkerPipe"
   ]
  },
  {
   "cell_type": "markdown",
   "id": "e4380a55-e50d-4071-90c5-eff15e3f5c38",
   "metadata": {},
   "source": [
    "## Methods"
   ]
  },
  {
   "cell_type": "markdown",
   "id": "8da20a18-220b-4cab-9b74-58668bed7933",
   "metadata": {},
   "source": [
    "### Step 0: load libraries"
   ]
  },
  {
   "cell_type": "code",
   "execution_count": 1,
   "id": "d53dd2c3-6750-4d2b-a7c2-4a7a3f7c75fd",
   "metadata": {},
   "outputs": [
    {
     "name": "stderr",
     "output_type": "stream",
     "text": [
      "The legacy packages maptools, rgdal, and rgeos, underpinning the sp package,\n",
      "which was just loaded, were retired in October 2023.\n",
      "Please refer to R-spatial evolution reports for details, especially\n",
      "https://r-spatial.org/r/2023/05/15/evolution4.html.\n",
      "It may be desirable to make the sf package available;\n",
      "package maintainers should consider adding sf to Suggests:.\n",
      "\n",
      "Attaching SeuratObject\n",
      "\n"
     ]
    }
   ],
   "source": [
    "# import libraries\n",
    "library(Seurat)"
   ]
  },
  {
   "cell_type": "markdown",
   "id": "7e798066-f87a-4465-9f94-2428c9d4d5de",
   "metadata": {},
   "source": [
    "library(dplyr)\n",
    "library(patchwork)\n",
    "library(ggplot2)\n",
    "library(DropletUtils)"
   ]
  },
  {
   "cell_type": "markdown",
   "id": "94408a9d-ab49-4a49-8a05-41f709ddb2b5",
   "metadata": {},
   "source": [
    "### Step 1: load seurat project data"
   ]
  },
  {
   "cell_type": "code",
   "execution_count": 2,
   "id": "9927343a-0000-453f-bd74-0b02684dc59a",
   "metadata": {},
   "outputs": [],
   "source": [
    "# the work directory (work.dir)\n",
    "work.dir = \"/work/sabirianov/yinglu/test/cellmaker-rev\"\n",
    "# The data directory (data.dir) where your save the seurat project object\n",
    "data.dir = \"/work/sabirianov/yinglu/software/cellMarkerPipe/data/Zeisel/10x\""
   ]
  },
  {
   "cell_type": "code",
   "execution_count": 18,
   "id": "7c9520fa-0923-430e-a616-3e3c3424f146",
   "metadata": {},
   "outputs": [
    {
     "name": "stderr",
     "output_type": "stream",
     "text": [
      "Warning message in dir.create(Wdata.dir):\n",
      "“'/work/sabirianov/yinglu/test/cellmaker-rev/data' already exists”\n"
     ]
    }
   ],
   "source": [
    "# keep this data saving directory so that the Selection step in cellMarkerPipe is able to find it\n",
    "Wdata.dir <- file.path(work.dir, \"data\")\n",
    "dir.create(Wdata.dir)"
   ]
  },
  {
   "cell_type": "code",
   "execution_count": 3,
   "id": "b215ccc3-1ef9-44d9-a05f-ed3b1a0d61ed",
   "metadata": {},
   "outputs": [],
   "source": [
    "zeisel <- readRDS(file =file.path(data.dir, \"/seurat.rds\"))"
   ]
  },
  {
   "cell_type": "code",
   "execution_count": 4,
   "id": "209fc0c4-a61d-471f-8916-3162f6d349f6",
   "metadata": {},
   "outputs": [
    {
     "data": {
      "text/plain": [
       "An object of class Seurat \n",
       "4998 features across 2989 samples within 1 assay \n",
       "Active assay: RNA (4998 features, 2000 variable features)"
      ]
     },
     "metadata": {},
     "output_type": "display_data"
    }
   ],
   "source": [
    "zeisel"
   ]
  },
  {
   "cell_type": "markdown",
   "id": "99d767d9-3851-4e9d-9cab-c6d6c71a54a3",
   "metadata": {},
   "source": [
    "### Step 2: screen the features you want to perform down-stream calculation"
   ]
  },
  {
   "cell_type": "code",
   "execution_count": 9,
   "id": "d53c04ba-d350-45a4-ba88-9a8d714a61e8",
   "metadata": {},
   "outputs": [
    {
     "name": "stdout",
     "output_type": "stream",
     "text": [
      "[1] \"Find High Variable Features...\"\n",
      "[1] \"The number of high variable genes used:\"\n",
      "[1] 2000\n"
     ]
    }
   ],
   "source": [
    "# n.variable save the number of high variable genes you want to save for Selection step\n",
    "n.variable <- 2000\n",
    "print(\"Find High Variable Features...\")\n",
    "zeisel <- FindVariableFeatures(zeisel, selection.method = \"vst\", nfeatures = n.variable)\n",
    "mat_keep_rows <- head(VariableFeatures(object = zeisel),n.variable)\n",
    "print(\"The number of high variable genes used:\")\n",
    "print(length(mat_keep_rows))"
   ]
  },
  {
   "cell_type": "markdown",
   "id": "2e0bfe27-e01a-4550-ae4d-080b8c5da8fd",
   "metadata": {},
   "source": [
    "### Step 3: save the count matrix of the selected features"
   ]
  },
  {
   "cell_type": "code",
   "execution_count": 15,
   "id": "9c77034b-871f-4487-8098-870e6e55db62",
   "metadata": {},
   "outputs": [
    {
     "name": "stdout",
     "output_type": "stream",
     "text": [
      "[1] \"The dimension of the selected matrix is:\"\n",
      "[1] 2000 2989\n",
      "[1] \"Save the counts of high variables\"\n",
      "[1] \"time used:\"\n",
      "Time difference of 4.658097 secs\n",
      "[1] \"Obtained High Variable Features!\"\n"
     ]
    }
   ],
   "source": [
    "mat <- GetAssayData(object = zeisel, slot = 'counts')\n",
    "mat_subset <- mat[rownames(mat) %in% mat_keep_rows, ]\n",
    "\n",
    "print(\"The dimension of the selected matrix is:\")\n",
    "print(dim(mat_subset))\n",
    "print(\"Save the counts of high variables\")\n",
    "start_time <- Sys.time()\n",
    "write.table(mat_subset,file = file.path(Wdata.dir, \"counts_high_variable.csv\"),sep=\"\\t\") # keeps the rownames\n",
    "end_time <- Sys.time()\n",
    "print(\"time used:\")\n",
    "print(end_time - start_time)\n",
    "\n",
    "print(\"Obtained High Variable Features!\")"
   ]
  },
  {
   "cell_type": "code",
   "execution_count": null,
   "id": "46cd9ef6-7492-4720-bf66-34e8e7412f77",
   "metadata": {},
   "outputs": [],
   "source": []
  }
 ],
 "metadata": {
  "kernelspec": {
   "display_name": "R (my-seurat)",
   "language": "R",
   "name": "my-seurat"
  },
  "language_info": {
   "codemirror_mode": "r",
   "file_extension": ".r",
   "mimetype": "text/x-r-source",
   "name": "R",
   "pygments_lexer": "r",
   "version": "4.3.1"
  }
 },
 "nbformat": 4,
 "nbformat_minor": 5
}
